{
 "cells": [
  {
   "cell_type": "code",
   "execution_count": 8,
   "id": "1eec6262",
   "metadata": {},
   "outputs": [],
   "source": [
    "from qalcore.qiskit.vqls.vqls import VQLS \n",
    "from qiskit import Aer\n",
    "from qiskit.circuit.library.n_local.real_amplitudes import RealAmplitudes\n",
    "import numpy as np"
   ]
  },
  {
   "cell_type": "code",
   "execution_count": 2,
   "id": "c7797d38",
   "metadata": {},
   "outputs": [],
   "source": [
    "import numpy as np\n",
    "from scipy.optimize import minimize\n",
    "\n",
    "import qiskit \n",
    "from qiskit.circuit.library.n_local.real_amplitudes import RealAmplitudes\n",
    "from qiskit import Aer, transpile, assemble\n",
    "from qiskit import QuantumCircuit, QuantumRegister, ClassicalRegister\n",
    "\n",
    "\n",
    "from qalcore.utils.unitary_decomposition import UnitaryDecomposition\n",
    "from qalcore.qiskit.utils.circ_utils import vector_creation, get_controlled_matrix, unitarymatrix2circuit\n",
    "from qalcore.qiskit.utils.circ_utils import get_circuit_state_vector\n",
    "from qalcore.qiskit.utils.circuit.hadammard_test import HadammardTest\n",
    "from qalcore.qiskit.utils.circuit.special_hadammard_test import SpecialHadammardTest\n",
    "from types import SimpleNamespace\n"
   ]
  },
  {
   "cell_type": "code",
   "execution_count": 3,
   "id": "a43d536c",
   "metadata": {},
   "outputs": [],
   "source": [
    "A = np.random.rand(8,8)\n",
    "A = A+A.T"
   ]
  },
  {
   "cell_type": "code",
   "execution_count": 4,
   "id": "b6b290a6",
   "metadata": {},
   "outputs": [],
   "source": [
    "b = np.random.rand(8,1)"
   ]
  },
  {
   "cell_type": "code",
   "execution_count": 5,
   "id": "fc80a5aa",
   "metadata": {},
   "outputs": [],
   "source": [
    "from qalcore.qiskit.vqls.vqls import VQLS \n",
    "vqls = VQLS(A,b)\n",
    "ansatz = RealAmplitudes(3, entanglement='linear', reps=2, insert_barriers=True)\n",
    "backend = Aer.get_backend('aer_simulator')\n",
    "vqls.backend = backend"
   ]
  },
  {
   "cell_type": "code",
   "execution_count": 6,
   "id": "df5dd510",
   "metadata": {},
   "outputs": [],
   "source": [
    "unitdecomp_A = UnitaryDecomposition(vqls.A)\n",
    "unitdecomp_A.decompose(check=True)\n",
    "unitdecomp_A.normalize_coefficients()\n",
    "Acirc, Aconjcirc = vqls._get_A_circuit(unitdecomp_A)"
   ]
  },
  {
   "cell_type": "code",
   "execution_count": 7,
   "id": "09539d9c",
   "metadata": {},
   "outputs": [],
   "source": [
    "norm, Ub_mat = vector_creation(vqls.b, vqls.nqbit, decimals=16)\n",
    "Ubconjcirc = unitarymatrix2circuit(Ub_mat.transpose(), vqls.backend)"
   ]
  },
  {
   "cell_type": "code",
   "execution_count": 8,
   "id": "5c821471",
   "metadata": {},
   "outputs": [],
   "source": [
    "vqls.ansatz = ansatz\n",
    "hdmr_circ = HadammardTest(ansatz = vqls.ansatz, \n",
    "                          operators = [Acirc[0].circuit, Aconjcirc[0].circuit],\n",
    "                          num_qubits=4,imaginary=True)"
   ]
  },
  {
   "cell_type": "code",
   "execution_count": 9,
   "id": "5c27ade2",
   "metadata": {},
   "outputs": [
    {
     "data": {
      "image/png": "[encoded data removed]",
      "text/plain": [
       "<Figure size 895.74x325.08 with 1 Axes>"
      ]
     },
     "execution_count": 9,
     "metadata": {},
     "output_type": "execute_result"
    }
   ],
   "source": [
    "qctl = QuantumRegister(4)\n",
    "qc = ClassicalRegister(4)\n",
    "circ = QuantumCircuit(qctl, qc)\n",
    "\n",
    "circ.compose(hdmr_circ, \n",
    "                qubits=list(range(4)), \n",
    "                inplace=True)\n",
    "\n",
    "circ.draw('mpl')"
   ]
  },
  {
   "cell_type": "code",
   "execution_count": 11,
   "id": "33300ab1",
   "metadata": {},
   "outputs": [
    {
     "ename": "CircuitError",
     "evalue": "'The circuit contains non-unitary operations and cannot be controlled. Note that no qiskit.circuit.Instruction objects may be in the circuit for this operation.'",
     "output_type": "error",
     "traceback": [
      "\u001b[0;31m---------------------------------------------------------------------------\u001b[0m",
      "\u001b[0;31mQiskitError\u001b[0m                               Traceback (most recent call last)",
      "File \u001b[0;32m~/miniconda3/envs/qalcore/lib/python3.8/site-packages/qiskit/circuit/quantumcircuit.py:698\u001b[0m, in \u001b[0;36mQuantumCircuit.control\u001b[0;34m(self, num_ctrl_qubits, label, ctrl_state)\u001b[0m\n\u001b[1;32m    697\u001b[0m \u001b[39mtry\u001b[39;00m:\n\u001b[0;32m--> 698\u001b[0m     gate \u001b[39m=\u001b[39m \u001b[39mself\u001b[39;49m\u001b[39m.\u001b[39;49mto_gate()\n\u001b[1;32m    699\u001b[0m \u001b[39mexcept\u001b[39;00m QiskitError \u001b[39mas\u001b[39;00m ex:\n",
      "File \u001b[0;32m~/miniconda3/envs/qalcore/lib/python3.8/site-packages/qiskit/circuit/library/blueprintcircuit.py:155\u001b[0m, in \u001b[0;36mBlueprintCircuit.to_gate\u001b[0;34m(self, parameter_map, label)\u001b[0m\n\u001b[1;32m    154\u001b[0m     \u001b[39mself\u001b[39m\u001b[39m.\u001b[39m_build()\n\u001b[0;32m--> 155\u001b[0m \u001b[39mreturn\u001b[39;00m \u001b[39msuper\u001b[39;49m()\u001b[39m.\u001b[39;49mto_gate(parameter_map, label\u001b[39m=\u001b[39;49mlabel)\n",
      "File \u001b[0;32m~/miniconda3/envs/qalcore/lib/python3.8/site-packages/qiskit/circuit/quantumcircuit.py:1539\u001b[0m, in \u001b[0;36mQuantumCircuit.to_gate\u001b[0;34m(self, parameter_map, label)\u001b[0m\n\u001b[1;32m   1537\u001b[0m \u001b[39mfrom\u001b[39;00m \u001b[39mqiskit\u001b[39;00m\u001b[39m.\u001b[39;00m\u001b[39mconverters\u001b[39;00m\u001b[39m.\u001b[39;00m\u001b[39mcircuit_to_gate\u001b[39;00m \u001b[39mimport\u001b[39;00m circuit_to_gate\n\u001b[0;32m-> 1539\u001b[0m \u001b[39mreturn\u001b[39;00m circuit_to_gate(\u001b[39mself\u001b[39;49m, parameter_map, label\u001b[39m=\u001b[39;49mlabel)\n",
      "File \u001b[0;32m~/miniconda3/envs/qalcore/lib/python3.8/site-packages/qiskit/converters/circuit_to_gate.py:54\u001b[0m, in \u001b[0;36mcircuit_to_gate\u001b[0;34m(circuit, parameter_map, equivalence_library, label)\u001b[0m\n\u001b[1;32m     53\u001b[0m     \u001b[39mif\u001b[39;00m \u001b[39mnot\u001b[39;00m \u001b[39misinstance\u001b[39m(instruction\u001b[39m.\u001b[39moperation, Gate):\n\u001b[0;32m---> 54\u001b[0m         \u001b[39mraise\u001b[39;00m QiskitError(\n\u001b[1;32m     55\u001b[0m             (\n\u001b[1;32m     56\u001b[0m                 \u001b[39m\"\u001b[39m\u001b[39mOne or more instructions cannot be converted to\u001b[39m\u001b[39m\"\u001b[39m\n\u001b[1;32m     57\u001b[0m                 \u001b[39m'\u001b[39m\u001b[39m a gate. \u001b[39m\u001b[39m\"\u001b[39m\u001b[39m{}\u001b[39;00m\u001b[39m\"\u001b[39m\u001b[39m is not a gate instruction\u001b[39m\u001b[39m'\u001b[39m\n\u001b[1;32m     58\u001b[0m             )\u001b[39m.\u001b[39mformat(instruction\u001b[39m.\u001b[39moperation\u001b[39m.\u001b[39mname)\n\u001b[1;32m     59\u001b[0m         )\n\u001b[1;32m     61\u001b[0m \u001b[39mif\u001b[39;00m parameter_map \u001b[39mis\u001b[39;00m \u001b[39mNone\u001b[39;00m:\n",
      "\u001b[0;31mQiskitError\u001b[0m: 'One or more instructions cannot be converted to a gate. \"RealAmplitudes\" is not a gate instruction'",
      "\nThe above exception was the direct cause of the following exception:\n",
      "\u001b[0;31mCircuitError\u001b[0m                              Traceback (most recent call last)",
      "\u001b[1;32m/home/nico/QuantumApplicationLab/qalcore/example/qiskit/vqls.ipynb Cell 10\u001b[0m in \u001b[0;36m<cell line: 1>\u001b[0;34m()\u001b[0m\n\u001b[0;32m----> <a href='vscode-notebook-cell:/home/nico/QuantumApplicationLab/qalcore/example/qiskit/vqls.ipynb#ch0000009?line=0'>1</a>\u001b[0m spec_hdmr_circ \u001b[39m=\u001b[39m SpecialHadammardTest(ansatz \u001b[39m=\u001b[39;49m vqls\u001b[39m.\u001b[39;49mansatz, \n\u001b[1;32m      <a href='vscode-notebook-cell:/home/nico/QuantumApplicationLab/qalcore/example/qiskit/vqls.ipynb#ch0000009?line=1'>2</a>\u001b[0m                                       operators \u001b[39m=\u001b[39;49m [Acirc[\u001b[39m0\u001b[39;49m]\u001b[39m.\u001b[39;49mcircuit, Acirc[\u001b[39m1\u001b[39;49m]\u001b[39m.\u001b[39;49mcircuit],\n\u001b[1;32m      <a href='vscode-notebook-cell:/home/nico/QuantumApplicationLab/qalcore/example/qiskit/vqls.ipynb#ch0000009?line=2'>3</a>\u001b[0m                                       num_qubits\u001b[39m=\u001b[39;49m\u001b[39m4\u001b[39;49m,imaginary\u001b[39m=\u001b[39;49m\u001b[39mTrue\u001b[39;49;00m)\n",
      "File \u001b[0;32m~/QuantumApplicationLab/qalcore/qalcore/qiskit/utils/circuit/special_hadammard_test.py:17\u001b[0m, in \u001b[0;36mSpecialHadammardTest.__init__\u001b[0;34m(self, ansatz, operators, num_qubits, imaginary)\u001b[0m\n\u001b[1;32m      9\u001b[0m \u001b[39mdef\u001b[39;00m \u001b[39m__init__\u001b[39m(\n\u001b[1;32m     10\u001b[0m     \u001b[39mself\u001b[39m,\n\u001b[1;32m     11\u001b[0m     ansatz: QuantumCircuit,\n\u001b[0;32m   (...)\u001b[0m\n\u001b[1;32m     14\u001b[0m     imaginary: Optional[\u001b[39mbool\u001b[39m] \u001b[39m=\u001b[39m \u001b[39mFalse\u001b[39;00m\n\u001b[1;32m     15\u001b[0m ):\n\u001b[0;32m---> 17\u001b[0m     \u001b[39mself\u001b[39m\u001b[39m.\u001b[39mvariational_ansatz \u001b[39m=\u001b[39m ansatz\u001b[39m.\u001b[39;49mcontrol(\u001b[39m1\u001b[39;49m)\n\u001b[1;32m     18\u001b[0m     \u001b[39mself\u001b[39m\u001b[39m.\u001b[39moperators \u001b[39m=\u001b[39m operators\n\u001b[1;32m     19\u001b[0m     \u001b[39m# self.num_qubits = num_qubits\u001b[39;00m\n",
      "File \u001b[0;32m~/miniconda3/envs/qalcore/lib/python3.8/site-packages/qiskit/circuit/quantumcircuit.py:700\u001b[0m, in \u001b[0;36mQuantumCircuit.control\u001b[0;34m(self, num_ctrl_qubits, label, ctrl_state)\u001b[0m\n\u001b[1;32m    698\u001b[0m     gate \u001b[39m=\u001b[39m \u001b[39mself\u001b[39m\u001b[39m.\u001b[39mto_gate()\n\u001b[1;32m    699\u001b[0m \u001b[39mexcept\u001b[39;00m QiskitError \u001b[39mas\u001b[39;00m ex:\n\u001b[0;32m--> 700\u001b[0m     \u001b[39mraise\u001b[39;00m CircuitError(\n\u001b[1;32m    701\u001b[0m         \u001b[39m\"\u001b[39m\u001b[39mThe circuit contains non-unitary operations and cannot be \u001b[39m\u001b[39m\"\u001b[39m\n\u001b[1;32m    702\u001b[0m         \u001b[39m\"\u001b[39m\u001b[39mcontrolled. Note that no qiskit.circuit.Instruction objects may \u001b[39m\u001b[39m\"\u001b[39m\n\u001b[1;32m    703\u001b[0m         \u001b[39m\"\u001b[39m\u001b[39mbe in the circuit for this operation.\u001b[39m\u001b[39m\"\u001b[39m\n\u001b[1;32m    704\u001b[0m     ) \u001b[39mfrom\u001b[39;00m \u001b[39mex\u001b[39;00m\n\u001b[1;32m    706\u001b[0m controlled_gate \u001b[39m=\u001b[39m gate\u001b[39m.\u001b[39mcontrol(num_ctrl_qubits, label, ctrl_state)\n\u001b[1;32m    707\u001b[0m control_qreg \u001b[39m=\u001b[39m QuantumRegister(num_ctrl_qubits)\n",
      "\u001b[0;31mCircuitError\u001b[0m: 'The circuit contains non-unitary operations and cannot be controlled. Note that no qiskit.circuit.Instruction objects may be in the circuit for this operation.'"
     ]
    }
   ],
   "source": [
    "spec_hdmr_circ = SpecialHadammardTest(ansatz = vqls.ansatz, \n",
    "                                      operators = [Acirc[0].circuit, Acirc[1].circuit],\n",
    "                                      num_qubits=4,imaginary=True)"
   ]
  },
  {
   "cell_type": "code",
   "execution_count": null,
   "id": "6c479f7d",
   "metadata": {},
   "outputs": [],
   "source": []
  }
 ],
 "metadata": {
  "kernelspec": {
   "display_name": "Python 3.8.0 ('qalcore')",
   "language": "python",
   "name": "python3"
  },
  "language_info": {
   "codemirror_mode": {
    "name": "ipython",
    "version": 3
   },
   "file_extension": ".py",
   "mimetype": "text/x-python",
   "name": "python",
   "nbconvert_exporter": "python",
   "pygments_lexer": "ipython3",
   "version": "3.8.0"
  },
  "vscode": {
   "interpreter": {
    "hash": "390591a6667b05d6f83558ed597f55be1305d4de992db830679d199a6a0e520c"
   }
  }
 },
 "nbformat": 4,
 "nbformat_minor": 5
}
