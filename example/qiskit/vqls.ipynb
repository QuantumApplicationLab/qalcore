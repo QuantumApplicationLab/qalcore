{
 "cells": [
  {
   "cell_type": "code",
   "execution_count": 1,
   "id": "1eec6262",
   "metadata": {},
   "outputs": [],
   "source": [
    "from qalcore.qiskit.vqls.vqls import VQLS \n",
    "from qiskit import Aer\n",
    "from qiskit.circuit.library.n_local.real_amplitudes import RealAmplitudes\n",
    "import numpy as np"
   ]
  },
  {
   "cell_type": "code",
   "execution_count": 2,
   "id": "c7797d38",
   "metadata": {},
   "outputs": [],
   "source": [
    "import numpy as np\n",
    "from scipy.optimize import minimize\n",
    "\n",
    "import qiskit \n",
    "from qiskit.circuit.library.n_local.real_amplitudes import RealAmplitudes\n",
    "from qiskit import Aer, transpile, assemble\n",
    "from qiskit import QuantumCircuit, QuantumRegister, ClassicalRegister\n",
    "\n",
    "\n",
    "from qalcore.utils.unitary_decomposition import UnitaryDecomposition\n",
    "from qalcore.qiskit.utils.circ_utils import vector_creation, get_controlled_matrix, unitarymatrix2circuit\n",
    "from qalcore.qiskit.utils.circ_utils import get_circuit_state_vector\n",
    "from qalcore.qiskit.utils.circuit.hadammard_test import HadammardTest\n",
    "from qalcore.qiskit.utils.circuit.special_hadammard_test import SpecialHadammardTest\n",
    "from types import SimpleNamespace\n"
   ]
  },
  {
   "cell_type": "code",
   "execution_count": 3,
   "id": "a43d536c",
   "metadata": {},
   "outputs": [],
   "source": [
    "A = np.random.rand(4,4)\n",
    "A = np.arange(16).reshape(4,4)\n",
    "A = (A+A.T)/10"
   ]
  },
  {
   "cell_type": "code",
   "execution_count": 4,
   "id": "b6b290a6",
   "metadata": {},
   "outputs": [],
   "source": [
    "b = np.arange(4)/10\n",
    "b = b/np.linalg.norm(b)"
   ]
  },
  {
   "cell_type": "code",
   "execution_count": 5,
   "id": "fc80a5aa",
   "metadata": {},
   "outputs": [],
   "source": [
    "from qalcore.qiskit.vqls.vqls import VQLS \n",
    "vqls = VQLS(A,b)\n",
    "ansatz = RealAmplitudes(2, entanglement='linear', reps=2, insert_barriers=False)\n",
    "backend = Aer.get_backend('aer_simulator')\n",
    "vqls.backend = backend\n",
    "vqls.ansatz = ansatz"
   ]
  },
  {
   "cell_type": "code",
   "execution_count": 6,
   "id": "a9dbcc2b",
   "metadata": {},
   "outputs": [],
   "source": [
    "# decompose the A matrix as a sum of unitary matrices\n",
    "unitdecomp_A = UnitaryDecomposition(vqls.A)\n",
    "unitdecomp_A.decompose(check=True)\n",
    "unitdecomp_A.normalize_coefficients()"
   ]
  },
  {
   "cell_type": "code",
   "execution_count": 7,
   "id": "60fc52ef",
   "metadata": {},
   "outputs": [],
   "source": [
    "vqls.Acirc, vqls.Aconjcirc = vqls._get_A_circuit(unitdecomp_A)"
   ]
  },
  {
   "cell_type": "code",
   "execution_count": 8,
   "id": "4551633c",
   "metadata": {},
   "outputs": [],
   "source": [
    "norm, Ub_mat = vector_creation(vqls.b, vqls.nqbit, decimals=16)\n",
    "vqls.Ubconjcirc = unitarymatrix2circuit(Ub_mat.transpose(), vqls.backend)"
   ]
  },
  {
   "cell_type": "code",
   "execution_count": 9,
   "id": "cd4171ce",
   "metadata": {},
   "outputs": [
    {
     "data": {
      "text/plain": [
       "0.4197715326373393"
      ]
     },
     "execution_count": 9,
     "metadata": {},
     "output_type": "execute_result"
    }
   ],
   "source": [
    "parameters = np.arange(9)/10\n",
    "vqls._compute_hadammard_sum(parameters)"
   ]
  },
  {
   "cell_type": "code",
   "execution_count": 10,
   "id": "4f6618e0",
   "metadata": {},
   "outputs": [
    {
     "data": {
      "text/plain": [
       "0.40152713316503036"
      ]
     },
     "execution_count": 10,
     "metadata": {},
     "output_type": "execute_result"
    }
   ],
   "source": [
    "vqls._compute_special_hadammard_sum(parameters)"
   ]
  },
  {
   "cell_type": "code",
   "execution_count": 11,
   "id": "b9b853f4",
   "metadata": {},
   "outputs": [
    {
     "name": "stdout",
     "output_type": "stream",
     "text": [
      "0.4197715326373393\n",
      "0.40152713316503036\n",
      "iteration 1/1, cost 0.043463\n"
     ]
    },
    {
     "data": {
      "text/plain": [
       "0.04346268875757986"
      ]
     },
     "execution_count": 11,
     "metadata": {},
     "output_type": "execute_result"
    }
   ],
   "source": [
    "vqls.verbose=True\n",
    "vqls.iiter = 0 \n",
    "vqls.niter = 1\n",
    "vqls._cost(parameters, vqls)"
   ]
  },
  {
   "cell_type": "code",
   "execution_count": null,
   "id": "4d1a16a8",
   "metadata": {},
   "outputs": [],
   "source": []
  }
 ],
 "metadata": {
  "kernelspec": {
   "display_name": "Python 3.8.0 ('qalcore')",
   "language": "python",
   "name": "python3"
  },
  "language_info": {
   "codemirror_mode": {
    "name": "ipython",
    "version": 3
   },
   "file_extension": ".py",
   "mimetype": "text/x-python",
   "name": "python",
   "nbconvert_exporter": "python",
   "pygments_lexer": "ipython3",
   "version": "3.8.0"
  },
  "vscode": {
   "interpreter": {
    "hash": "390591a6667b05d6f83558ed597f55be1305d4de992db830679d199a6a0e520c"
   }
  }
 },
 "nbformat": 4,
 "nbformat_minor": 5
}
