{
 "cells": [
  {
   "cell_type": "code",
   "execution_count": 1,
   "id": "1eec6262",
   "metadata": {},
   "outputs": [],
   "source": [
    "from qalcore.qiskit.vqls.vqls import VQLS \n",
    "from qiskit import Aer\n",
    "from qiskit.circuit.library.n_local.real_amplitudes import RealAmplitudes"
   ]
  },
  {
   "cell_type": "code",
   "execution_count": 2,
   "id": "a43d536c",
   "metadata": {},
   "outputs": [],
   "source": [
    "A = np.random.rand(8,8)\n",
    "A = A+A.T"
   ]
  },
  {
   "cell_type": "code",
   "execution_count": 3,
   "id": "b6b290a6",
   "metadata": {},
   "outputs": [],
   "source": [
    "b = np.random.rand(8,1)"
   ]
  },
  {
   "cell_type": "code",
   "execution_count": 40,
   "id": "fc80a5aa",
   "metadata": {},
   "outputs": [
    {
     "data": {
      "text/plain": [
       "ParameterView([ParameterVectorElement(θ[0]), ParameterVectorElement(θ[1]), ParameterVectorElement(θ[2]), ParameterVectorElement(θ[3]), ParameterVectorElement(θ[4]), ParameterVectorElement(θ[5]), ParameterVectorElement(θ[6]), ParameterVectorElement(θ[7]), ParameterVectorElement(θ[8])])"
      ]
     },
     "execution_count": 40,
     "metadata": {},
     "output_type": "execute_result"
    }
   ],
   "source": [
    "from qalcore.qiskit.vqls.vqls import VQLS \n",
    "vqls = VQLS(A,b)\n",
    "ansatz = RealAmplitudes(3, entanglement='linear', reps=2, insert_barriers=True)\n",
    "backend = Aer.get_backend('aer_simulator')\n",
    "vqls.solve(ansatz=ansatz, backend=backend, niter=200)\n"
   ]
  },
  {
   "cell_type": "code",
   "execution_count": 80,
   "id": "4dfaa7a5",
   "metadata": {},
   "outputs": [
    {
     "name": "stdout",
     "output_type": "stream",
     "text": [
      "param ParameterView([ParameterVectorElement(θ[0]), ParameterVectorElement(θ[1]), ParameterVectorElement(θ[2]), ParameterVectorElement(θ[3]), ParameterVectorElement(θ[4]), ParameterVectorElement(θ[5]), ParameterVectorElement(θ[6]), ParameterVectorElement(θ[7]), ParameterVectorElement(θ[8])])\n",
      "{ParameterVectorElement(θ[0]): 1.0, ParameterVectorElement(θ[1]): 2.0, ParameterVectorElement(θ[2]): 3.0, ParameterVectorElement(θ[3]): 4.0, ParameterVectorElement(θ[4]): 5.0, ParameterVectorElement(θ[5]): 6.0, ParameterVectorElement(θ[6]): 7.0, ParameterVectorElement(θ[7]): 8.0, ParameterVectorElement(θ[8]): 9.0}\n",
      "param ParameterView([])\n"
     ]
    }
   ],
   "source": [
    "import numpy as np\n",
    "ansatz = RealAmplitudes(3, entanglement='linear', reps=2, insert_barriers=True)\n",
    "print('param', ansatz.parameters)\n",
    "x0 = np.linspace(1,9,9)\n",
    "d = {}\n",
    "for i, k in enumerate(ansatz.parameters):\n",
    "    d[k] = x0[i]\n",
    "print(d)\n",
    "ansatz.assign_parameters(d, inplace=True)\n",
    "# ansatz.bind_parameters(d)\n",
    "print('param', ansatz.parameters)"
   ]
  },
  {
   "cell_type": "code",
   "execution_count": 117,
   "id": "d6cae23b",
   "metadata": {},
   "outputs": [],
   "source": [
    "from qiskit.circuit import ParameterVector, QuantumCircuit\n",
    "from qiskit import transpile, assemble\n",
    "p = ParameterVector('p',2)\n",
    "\n",
    "circuit = QuantumCircuit(2)\n",
    "circuit.rx(p[0],0)\n",
    "circuit.ry(p[1],1)\n",
    "\n",
    "d = {}\n",
    "for k in circuit.parameters:\n",
    "    d[k] = 2.0\n",
    "\n",
    "\n"
   ]
  },
  {
   "cell_type": "code",
   "execution_count": 118,
   "id": "e8940731",
   "metadata": {},
   "outputs": [
    {
     "data": {
      "image/png": "[encoded data removed]",
      "text/plain": [
       "<Figure size 146.652x144.48 with 1 Axes>"
      ]
     },
     "execution_count": 118,
     "metadata": {},
     "output_type": "execute_result"
    }
   ],
   "source": [
    "circuit.draw(output='mpl')"
   ]
  },
  {
   "cell_type": "code",
   "execution_count": 119,
   "id": "e69d6ec4",
   "metadata": {},
   "outputs": [
    {
     "name": "stdout",
     "output_type": "stream",
     "text": [
      "dict_keys([ParameterVectorElement(p[0]), ParameterVectorElement(p[1])])\n",
      "{ParameterVectorElement(p[0]), ParameterVectorElement(p[1])}\n",
      "ParameterView([ParameterVectorElement(p[0]), ParameterVectorElement(p[1])])\n",
      "ParameterView([])\n"
     ]
    }
   ],
   "source": [
    "unrolled_param_dict = circuit._unroll_param_dict(d)\n",
    "unsorted_parameter = circuit._unsorted_parameters()\n",
    "print(unrolled_param_dict.keys())\n",
    "print(unsorted_parameter)\n",
    "print(circuit.parameters)\n",
    "for p,v in unrolled_param_dict.items():\n",
    "    circuit._assign_para meter(p,v)\n",
    "print(circuit.parameters)"
   ]
  },
  {
   "cell_type": "code",
   "execution_count": null,
   "id": "2ac59709",
   "metadata": {},
   "outputs": [],
   "source": []
  }
 ],
 "metadata": {
  "kernelspec": {
   "display_name": "Python 3.8.0 ('qalcore')",
   "language": "python",
   "name": "python3"
  },
  "language_info": {
   "codemirror_mode": {
    "name": "ipython",
    "version": 3
   },
   "file_extension": ".py",
   "mimetype": "text/x-python",
   "name": "python",
   "nbconvert_exporter": "python",
   "pygments_lexer": "ipython3",
   "version": "3.8.0"
  },
  "vscode": {
   "interpreter": {
    "hash": "390591a6667b05d6f83558ed597f55be1305d4de992db830679d199a6a0e520c"
   }
  }
 },
 "nbformat": 4,
 "nbformat_minor": 5
}
