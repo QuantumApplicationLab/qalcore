{
 "cells": [
  {
   "cell_type": "code",
   "execution_count": 1,
   "metadata": {},
   "outputs": [],
   "source": [
    "from qiskit import QuantumCircuit, QuantumRegister, transpile, ClassicalRegister\n",
    "from qiskit.circuit.random import random_circuit\n",
    "from qiskit import Aer\n",
    "import numpy as np"
   ]
  },
  {
   "cell_type": "code",
   "execution_count": 2,
   "metadata": {},
   "outputs": [],
   "source": [
    "nqbit = 1\n",
    "qctrl = QuantumRegister(1,'qctrl')\n",
    "qreg0 = QuantumRegister(nqbit,'q0')\n",
    "qreg1 = QuantumRegister(nqbit,'q1')\n",
    "# creg = ClassicalRegister(1)\n",
    "qc = QuantumCircuit(qctrl, qreg0, qreg1)"
   ]
  },
  {
   "cell_type": "code",
   "execution_count": 3,
   "metadata": {},
   "outputs": [
    {
     "data": {
      "text/plain": [
       "<qiskit.circuit.instructionset.InstructionSet at 0x7f8db03c47f0>"
      ]
     },
     "execution_count": 3,
     "metadata": {},
     "output_type": "execute_result"
    }
   ],
   "source": [
    "qc.h(qctrl)\n",
    "qc.barrier()"
   ]
  },
  {
   "cell_type": "code",
   "execution_count": 4,
   "metadata": {},
   "outputs": [
    {
     "data": {
      "text/plain": [
       "<qiskit.circuit.instructionset.InstructionSet at 0x7f8d74e6e040>"
      ]
     },
     "execution_count": 4,
     "metadata": {},
     "output_type": "execute_result"
    }
   ],
   "source": [
    "def get_state(nqbit):\n",
    "    state = np.random.rand(2**nqbit)\n",
    "    return state / np.linalg.norm(state)\n",
    "\n",
    "for i in range(nqbit):\n",
    "    qc.x(qreg0[i])\n",
    "    # qc.rx(np.pi/4, qreg0[i])\n",
    "    qc.h(qreg0[i])\n",
    "\n",
    "for i in range(nqbit):\n",
    "    qc.h(qreg1[i])\n",
    "\n",
    "qc.barrier()"
   ]
  },
  {
   "cell_type": "code",
   "execution_count": 5,
   "metadata": {},
   "outputs": [],
   "source": [
    "# for i in range(nqbit):\n",
    "#     qc.cz(qctrl,qreg0[i])\n",
    "# for i in range(nqbit):\n",
    "#     qc.cz(qctrl,qreg1[i])\n",
    "\n",
    "# qc.barrier()"
   ]
  },
  {
   "cell_type": "code",
   "execution_count": 6,
   "metadata": {},
   "outputs": [
    {
     "data": {
      "text/plain": [
       "<qiskit.circuit.instructionset.InstructionSet at 0x7f8d74e58a30>"
      ]
     },
     "execution_count": 6,
     "metadata": {},
     "output_type": "execute_result"
    }
   ],
   "source": [
    "for i in range(nqbit):\n",
    "    qc.cx(qreg0[i],qreg1[i])\n",
    "\n",
    "qc.barrier()"
   ]
  },
  {
   "cell_type": "code",
   "execution_count": 7,
   "metadata": {},
   "outputs": [],
   "source": [
    "qc.h(qctrl)\n",
    "for i in range(nqbit):\n",
    "    qc.h(qreg0[i])"
   ]
  },
  {
   "cell_type": "code",
   "execution_count": 8,
   "metadata": {},
   "outputs": [
    {
     "data": {
      "image/png": "[encoded data removed]",
      "text/plain": [
       "<Figure size 839.279x264.88 with 1 Axes>"
      ]
     },
     "execution_count": 8,
     "metadata": {},
     "output_type": "execute_result"
    }
   ],
   "source": [
    "qc_measure = qc.measure_all(inplace=False)\n",
    "# qc.measure(qctrl, creg[0])\n",
    "qc_measure.draw('mpl')"
   ]
  },
  {
   "cell_type": "code",
   "execution_count": 9,
   "metadata": {},
   "outputs": [],
   "source": [
    "\n",
    "backend = Aer.get_backend('aer_simulator')\n",
    "job = backend.run(qc_measure, shots=10000)\n",
    "result = job.result()\n",
    "counts = result.get_counts()"
   ]
  },
  {
   "cell_type": "code",
   "execution_count": 10,
   "metadata": {},
   "outputs": [
    {
     "data": {
      "image/png": "[encoded data removed]",
      "text/plain": [
       "<Figure size 504x360 with 1 Axes>"
      ]
     },
     "execution_count": 10,
     "metadata": {},
     "output_type": "execute_result"
    }
   ],
   "source": [
    "from qiskit.visualization import plot_histogram \n",
    "plot_histogram(counts)"
   ]
  },
  {
   "cell_type": "code",
   "execution_count": 11,
   "metadata": {},
   "outputs": [],
   "source": [
    "from qiskit.opflow import CircuitSampler, StateFn, TensoredOp, Z, I\n",
    "from qiskit.utils import QuantumInstance\n",
    "\n",
    "quantum_instance = QuantumInstance(backend)\n",
    "circuit_sampler = CircuitSampler(quantum_instance)"
   ]
  },
  {
   "cell_type": "code",
   "execution_count": 12,
   "metadata": {},
   "outputs": [],
   "source": [
    "sv = circuit_sampler.convert(StateFn(qc)).eval()"
   ]
  },
  {
   "cell_type": "code",
   "execution_count": 18,
   "metadata": {},
   "outputs": [
    {
     "data": {
      "text/plain": [
       "array([[0.41992187, 0.        , 0.08300781, 0.        , 0.4296875 ,\n",
       "        0.        , 0.06738281, 0.        ]])"
      ]
     },
     "execution_count": 18,
     "metadata": {},
     "output_type": "execute_result"
    }
   ],
   "source": [
    "sv.to_matrix()**2"
   ]
  },
  {
   "cell_type": "code",
   "execution_count": 14,
   "metadata": {},
   "outputs": [],
   "source": [
    "one_op = (I - Z) / 2\n",
    "zero_op = (I + Z) / 2\n",
    "observable = zero_op ^ I ^ I"
   ]
  },
  {
   "cell_type": "code",
   "execution_count": 15,
   "metadata": {},
   "outputs": [
    {
     "ename": "IndexError",
     "evalue": "invalid index to scalar variable.",
     "output_type": "error",
     "traceback": [
      "\u001b[0;31m---------------------------------------------------------------------------\u001b[0m",
      "\u001b[0;31mIndexError\u001b[0m                                Traceback (most recent call last)",
      "\u001b[1;32m/home/nico/QuantumApplicationLab/qalcore/example/qiskit/vqls/overlap_test.ipynb Cell 15\u001b[0m in \u001b[0;36m<cell line: 1>\u001b[0;34m()\u001b[0m\n\u001b[0;32m----> <a href='vscode-notebook-cell:/home/nico/QuantumApplicationLab/qalcore/example/qiskit/vqls/overlap_test.ipynb#X20sZmlsZQ%3D%3D?line=0'>1</a>\u001b[0m circuit_sampler\u001b[39m.\u001b[39;49mconvert(\u001b[39m~\u001b[39;49mStateFn(observable) \u001b[39m@\u001b[39;49m StateFn(qc))\u001b[39m.\u001b[39;49meval()[\u001b[39m0\u001b[39;49m]\n",
      "\u001b[0;31mIndexError\u001b[0m: invalid index to scalar variable."
     ]
    }
   ],
   "source": [
    "circuit_sampler.convert(~StateFn(observable) @ StateFn(qc)).eval()[0]"
   ]
  },
  {
   "cell_type": "code",
   "execution_count": null,
   "metadata": {},
   "outputs": [
    {
     "data": {
      "text/plain": [
       "131072"
      ]
     },
     "execution_count": 15,
     "metadata": {},
     "output_type": "execute_result"
    }
   ],
   "source": [
    "2**17"
   ]
  },
  {
   "cell_type": "code",
   "execution_count": null,
   "metadata": {},
   "outputs": [],
   "source": []
  }
 ],
 "metadata": {
  "kernelspec": {
   "display_name": "qalcore",
   "language": "python",
   "name": "python3"
  },
  "language_info": {
   "codemirror_mode": {
    "name": "ipython",
    "version": 3
   },
   "file_extension": ".py",
   "mimetype": "text/x-python",
   "name": "python",
   "nbconvert_exporter": "python",
   "pygments_lexer": "ipython3",
   "version": "3.8.0"
  },
  "orig_nbformat": 4,
  "vscode": {
   "interpreter": {
    "hash": "390591a6667b05d6f83558ed597f55be1305d4de992db830679d199a6a0e520c"
   }
  }
 },
 "nbformat": 4,
 "nbformat_minor": 2
}
