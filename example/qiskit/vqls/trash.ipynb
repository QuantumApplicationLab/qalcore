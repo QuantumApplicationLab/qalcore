{
 "cells": [
  {
   "cell_type": "code",
   "execution_count": null,
   "metadata": {},
   "outputs": [],
   "source": [
    "from qiskit.algorithms.optimizers import SLSQP, Minimizer, Optimizer\n",
    "from qiskit.opflow.gradients import GradientBase\n",
    "\n",
    "opt = SLSQP()"
   ]
  },
  {
   "cell_type": "markdown",
   "metadata": {},
   "source": [
    "# My New VQA is Awesome\n",
    "Here is how it works ..."
   ]
  },
  {
   "cell_type": "code",
   "execution_count": null,
   "metadata": {},
   "outputs": [],
   "source": [
    "vqa = MyNewVQA()\n",
    "vqa.solve()"
   ]
  }
 ],
 "metadata": {
  "kernelspec": {
   "display_name": "Python 3.8.13 ('test_qalcore')",
   "language": "python",
   "name": "python3"
  },
  "language_info": {
   "name": "python",
   "version": "3.8.13"
  },
  "orig_nbformat": 4,
  "vscode": {
   "interpreter": {
    "hash": "b801f20f58c2a55eba63eb4bd542f58d8849c5838c1257501c707620be8344ae"
   }
  }
 },
 "nbformat": 4,
 "nbformat_minor": 2
}
