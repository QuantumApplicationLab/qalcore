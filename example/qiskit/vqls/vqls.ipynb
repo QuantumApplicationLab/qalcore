{
 "cells": [
  {
   "cell_type": "code",
   "execution_count": 8,
   "metadata": {},
   "outputs": [],
   "source": [
    "from qalcore.qiskit.vqls.vqls import VQLS, VQLSLog\n",
    "from qiskit.primitives import Estimator, Sampler \n",
    "from qiskit.circuit.library.n_local.real_amplitudes import RealAmplitudes\n",
    "from qiskit.algorithms.optimizers import COBYLA\n",
    "from qiskit import Aer\n",
    "import numpy as np"
   ]
  },
  {
   "cell_type": "markdown",
   "metadata": {},
   "source": [
    "# Variational Quantum Linear Solver\n",
    "\n",
    "The VQLS is an hybrod variational method to solve linear systems \n",
    "\n",
    "$$\n",
    "A \\cdot x = b\n",
    "$$\n",
    "\n",
    "where $A$ is a square (symmetric) matrix and $b$ the solution vector. The matrix $A$ should be expressed as a sum of unitary matrices :\n",
    "\n",
    "$$\n",
    "A = \\sum_n c_n A_n\n",
    "$$\n",
    "\n",
    "VQLS soves for $x$ by creating a variational ansatz $|\\Psi(\\theta)\\rangle = V(\\theta)|0\\rangle$ and a transformation $U$ such as $|b\\rangle U|0\\rangle$. The solution vector $|x\\rangle$ is then obtained by optimizing the parameters $\\theta$ to minimize the cost function :\n",
    "\n",
    "$$\n",
    "C = \\langle \\psi(\\theta) A^\\dagger | (\\mathbb{I} - |b\\rangle\\langle b|) | A \\psi(\\theta) \\rangle\n",
    "$$\n",
    "\n",
    "A great tutorial on VQLS can be found on the qiskit [documentation](https://qiskit.org/textbook/ch-paper-implementations/vqls.html), and more details can be found in the original [article](https://arxiv.org/abs/1909.05820)"
   ]
  },
  {
   "cell_type": "markdown",
   "metadata": {},
   "source": [
    "# Define the system\n",
    "Let's start by creating a random symmetric 4x4 matrix $A$"
   ]
  },
  {
   "cell_type": "code",
   "execution_count": 9,
   "metadata": {},
   "outputs": [],
   "source": [
    "nqbit = 2\n",
    "size = 2**nqbit\n",
    "A = np.random.rand(size, size)\n",
    "A = A + A.T"
   ]
  },
  {
   "cell_type": "markdown",
   "metadata": {},
   "source": [
    "and a random solution vector $b$"
   ]
  },
  {
   "cell_type": "code",
   "execution_count": 10,
   "metadata": {},
   "outputs": [],
   "source": [
    "b = np.random.rand(size)"
   ]
  },
  {
   "cell_type": "markdown",
   "metadata": {},
   "source": [
    "We can use the `NumpyLinearSolver` class to obtain the solution of this very simple system"
   ]
  },
  {
   "cell_type": "code",
   "execution_count": 11,
   "metadata": {},
   "outputs": [],
   "source": [
    "from qiskit.algorithms.linear_solvers.numpy_linear_solver import NumPyLinearSolver\n",
    "classical_solution = NumPyLinearSolver().solve(A, b / np.linalg.norm(b))"
   ]
  },
  {
   "cell_type": "markdown",
   "metadata": {},
   "source": [
    "# Define the variational ansatz\n",
    "Qiskit contains a series of variational circtuits that can be used to define variational ansatz. We will use here the so-called `RealAmplitude` circuit. Since our matrix is 4x4 we will use 2 qbits."
   ]
  },
  {
   "cell_type": "code",
   "execution_count": 12,
   "metadata": {},
   "outputs": [],
   "source": [
    "ansatz = RealAmplitudes(nqbit, entanglement=\"full\", reps=3, insert_barriers=False)"
   ]
  },
  {
   "cell_type": "markdown",
   "metadata": {},
   "source": [
    "We can now call the VQLS class to initialize the solver. We use here a statevector backend to obtain very accurate results"
   ]
  },
  {
   "cell_type": "code",
   "execution_count": 13,
   "metadata": {},
   "outputs": [],
   "source": [
    "log = VQLSLog([],[])\n",
    "estimator = Estimator()\n",
    "sampler = Sampler()\n",
    "vqls = VQLS(\n",
    "    estimator,\n",
    "    ansatz,\n",
    "    COBYLA(maxiter=2, disp=True),\n",
    "    sampler=sampler,\n",
    "    callback=log.update \n",
    ")"
   ]
  },
  {
   "cell_type": "markdown",
   "metadata": {},
   "source": [
    "We can then use the solver to obtain the solution of the linear system"
   ]
  },
  {
   "cell_type": "code",
   "execution_count": 14,
   "metadata": {},
   "outputs": [],
   "source": [
    "opt= {\"use_overlap_test\": False,\n",
    "      \"use_local_cost_function\": False}\n",
    "hdmr_tests_norm, hdmr_tests_overlap = vqls.construct_circuit(A, b, opt)"
   ]
  },
  {
   "cell_type": "code",
   "execution_count": 15,
   "metadata": {},
   "outputs": [
    {
     "data": {
      "image/png": "[encoded data removed]",
      "text/plain": [
       "<Figure size 748.797x204.68 with 1 Axes>"
      ]
     },
     "execution_count": 15,
     "metadata": {},
     "output_type": "execute_result"
    }
   ],
   "source": [
    "hdmr_tests_overlap[0].circuits[0].draw('mpl')"
   ]
  },
  {
   "cell_type": "code",
   "execution_count": 16,
   "metadata": {},
   "outputs": [
    {
     "name": "stdout",
     "output_type": "stream",
     "text": [
      "VQLS Iteration 2 Cost 0.055770167526207674\n",
      "   Return from subroutine COBYLA because the MAXFUN limit has been reached.\n",
      "\n",
      "   NFVALS =    2   F = 3.914342E-02    MAXCV = 0.000000E+00\n",
      "   X = 2.974397E-01   2.015485E+00   2.408671E+00   2.121383E+00   1.763548E+00\n",
      "       2.907868E+00   2.093504E+00  -1.222174E+00\n"
     ]
    }
   ],
   "source": [
    "opt= {\"use_overlap_test\": False,\n",
    "      \"use_local_cost_function\": False}\n",
    "res = vqls.solve(A, b, opt)"
   ]
  },
  {
   "cell_type": "markdown",
   "metadata": {},
   "source": [
    "The accuracy of the solution obtained with the VQLS solver can be estimated by comparing the solution vectors obtained with VQLS and the numpy solver"
   ]
  },
  {
   "cell_type": "code",
   "execution_count": 17,
   "metadata": {},
   "outputs": [
    {
     "data": {
      "text/plain": [
       "[<matplotlib.lines.Line2D at 0x7f214f586af0>]"
      ]
     },
     "execution_count": 17,
     "metadata": {},
     "output_type": "execute_result"
    },
    {
     "data": {
      "image/png": "[encoded data removed]",
      "text/plain": [
       "<Figure size 432x288 with 1 Axes>"
      ]
     },
     "metadata": {
      "needs_background": "light"
     },
     "output_type": "display_data"
    }
   ],
   "source": [
    "from qiskit.quantum_info import Statevector\n",
    "import matplotlib.pyplot as plt\n",
    "\n",
    "ref_solution = classical_solution.state / np.linalg.norm(classical_solution.state)\n",
    "vqls_solution = np.real(Statevector(res.state).data)\n",
    "\n",
    "\n",
    "plt.scatter(ref_solution, -vqls_solution)\n",
    "plt.plot([-1, 1], [-1, 1], \"--\")"
   ]
  },
  {
   "cell_type": "code",
   "execution_count": 18,
   "metadata": {},
   "outputs": [
    {
     "data": {
      "text/plain": [
       "[<matplotlib.lines.Line2D at 0x7f214f6634f0>]"
      ]
     },
     "execution_count": 18,
     "metadata": {},
     "output_type": "execute_result"
    },
    {
     "data": {
      "image/png": "[encoded data removed]",
      "text/plain": [
       "<Figure size 432x288 with 1 Axes>"
      ]
     },
     "metadata": {
      "needs_background": "light"
     },
     "output_type": "display_data"
    }
   ],
   "source": [
    "plt.plot(log.values)"
   ]
  },
  {
   "cell_type": "code",
   "execution_count": null,
   "metadata": {},
   "outputs": [],
   "source": []
  }
 ],
 "metadata": {
  "kernelspec": {
   "display_name": "qalcore",
   "language": "python",
   "name": "python3"
  },
  "language_info": {
   "codemirror_mode": {
    "name": "ipython",
    "version": 3
   },
   "file_extension": ".py",
   "mimetype": "text/x-python",
   "name": "python",
   "nbconvert_exporter": "python",
   "pygments_lexer": "ipython3",
   "version": "3.8.0"
  },
  "orig_nbformat": 4,
  "vscode": {
   "interpreter": {
    "hash": "390591a6667b05d6f83558ed597f55be1305d4de992db830679d199a6a0e520c"
   }
  }
 },
 "nbformat": 4,
 "nbformat_minor": 2
}
