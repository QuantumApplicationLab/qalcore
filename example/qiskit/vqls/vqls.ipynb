{
 "cells": [
  {
   "cell_type": "code",
   "execution_count": 1,
   "metadata": {},
   "outputs": [],
   "source": [
    "from qalcore.qiskit.vqls.vqls import VQLS, VQLSLog\n",
    "from qiskit.primitives import Estimator, Sampler \n",
    "from qiskit.circuit.library.n_local.real_amplitudes import RealAmplitudes\n",
    "from qiskit.algorithms.optimizers import COBYLA\n",
    "from qiskit import Aer\n",
    "import numpy as np"
   ]
  },
  {
   "cell_type": "markdown",
   "metadata": {},
   "source": [
    "# Variational Quantum Linear Solver\n",
    "\n",
    "The VQLS is an hybrod variational method to solve linear systems \n",
    "\n",
    "$$\n",
    "A \\cdot x = b\n",
    "$$\n",
    "\n",
    "where $A$ is a square (symmetric) matrix and $b$ the solution vector. The matrix $A$ should be expressed as a sum of unitary matrices :\n",
    "\n",
    "$$\n",
    "A = \\sum_n c_n A_n\n",
    "$$\n",
    "\n",
    "VQLS soves for $x$ by creating a variational ansatz $|\\Psi(\\theta)\\rangle = V(\\theta)|0\\rangle$ and a transformation $U$ such as $|b\\rangle U|0\\rangle$. The solution vector $|x\\rangle$ is then obtained by optimizing the parameters $\\theta$ to minimize the cost function :\n",
    "\n",
    "$$\n",
    "C = \\langle \\psi(\\theta) A^\\dagger | (\\mathbb{I} - |b\\rangle\\langle b|) | A \\psi(\\theta) \\rangle\n",
    "$$\n",
    "\n",
    "A great tutorial on VQLS can be found on the qiskit [documentation](https://qiskit.org/textbook/ch-paper-implementations/vqls.html), and more details can be found in the original [article](https://arxiv.org/abs/1909.05820)"
   ]
  },
  {
   "cell_type": "markdown",
   "metadata": {},
   "source": [
    "# Define the system\n",
    "Let's start by creating a random symmetric 4x4 matrix $A$"
   ]
  },
  {
   "cell_type": "code",
   "execution_count": 2,
   "metadata": {},
   "outputs": [],
   "source": [
    "nqbit = 2\n",
    "size = 2**nqbit\n",
    "A = np.random.rand(size, size)\n",
    "A = A + A.T"
   ]
  },
  {
   "cell_type": "markdown",
   "metadata": {},
   "source": [
    "and a random solution vector $b$"
   ]
  },
  {
   "cell_type": "code",
   "execution_count": 3,
   "metadata": {},
   "outputs": [],
   "source": [
    "b = np.random.rand(size)"
   ]
  },
  {
   "cell_type": "markdown",
   "metadata": {},
   "source": [
    "We can use the `NumpyLinearSolver` class to obtain the solution of this very simple system"
   ]
  },
  {
   "cell_type": "code",
   "execution_count": 4,
   "metadata": {},
   "outputs": [
    {
     "name": "stderr",
     "output_type": "stream",
     "text": [
      "/tmp/ipykernel_4544/2242500068.py:2: DeprecationWarning: The NumPyLinearSolver class is deprecated as of Qiskit Terra 0.22.0 and will be removed no sooner than 3 months after the release date. \n",
      "  classical_solution = NumPyLinearSolver().solve(A, b / np.linalg.norm(b))\n"
     ]
    }
   ],
   "source": [
    "from qiskit.algorithms.linear_solvers.numpy_linear_solver import NumPyLinearSolver\n",
    "classical_solution = NumPyLinearSolver().solve(A, b / np.linalg.norm(b))"
   ]
  },
  {
   "cell_type": "markdown",
   "metadata": {},
   "source": [
    "# Define the variational ansatz\n",
    "Qiskit contains a series of variational circtuits that can be used to define variational ansatz. We will use here the so-called `RealAmplitude` circuit. Since our matrix is 4x4 we will use 2 qbits."
   ]
  },
  {
   "cell_type": "code",
   "execution_count": 5,
   "metadata": {},
   "outputs": [],
   "source": [
    "ansatz = RealAmplitudes(nqbit, entanglement=\"full\", reps=3, insert_barriers=False)"
   ]
  },
  {
   "cell_type": "markdown",
   "metadata": {},
   "source": [
    "We can now call the VQLS class to initialize the solver. We use here a statevector backend to obtain very accurate results"
   ]
  },
  {
   "cell_type": "code",
   "execution_count": 9,
   "metadata": {},
   "outputs": [],
   "source": [
    "log = VQLSLog([],[])\n",
    "estimator = Estimator()\n",
    "sampler = Sampler()\n",
    "vqls = VQLS(\n",
    "    estimator,\n",
    "    ansatz,\n",
    "    COBYLA(maxiter=200, disp=True),\n",
    "    sampler=sampler,\n",
    "    callback=log.update \n",
    ")"
   ]
  },
  {
   "cell_type": "markdown",
   "metadata": {},
   "source": [
    "We can then use the solver to obtain the solution of the linear system"
   ]
  },
  {
   "cell_type": "code",
   "execution_count": 10,
   "metadata": {},
   "outputs": [
    {
     "name": "stdout",
     "output_type": "stream",
     "text": [
      "VQLS Iteration 196 Cost 4.4669474064118475e-07\n",
      "   Normal return from subroutine COBYLA\n",
      "\n",
      "   NFVALS =  196   F = 4.466947E-07    MAXCV = 0.000000E+00\n",
      "   X =-9.605506E-01  -4.985257E-01   1.016218E+00  -3.514202E+00   2.443166E+00\n",
      "      -2.555268E+00   2.734173E+00  -3.087236E+00\n"
     ]
    }
   ],
   "source": [
    "opt= {\"use_overlap_test\": False,\n",
    "      \"use_local_cost_function\": False}\n",
    "res = vqls.solve(A, b, opt)"
   ]
  },
  {
   "cell_type": "markdown",
   "metadata": {},
   "source": [
    "The accuracy of the solution obtained with the VQLS solver can be estimated by comparing the solution vectors obtained with VQLS and the numpy solver"
   ]
  },
  {
   "cell_type": "code",
   "execution_count": 14,
   "metadata": {},
   "outputs": [
    {
     "data": {
      "text/plain": [
       "[<matplotlib.lines.Line2D at 0x7f8cfc2e4850>]"
      ]
     },
     "execution_count": 14,
     "metadata": {},
     "output_type": "execute_result"
    },
    {
     "data": {
      "image/png": "[encoded data removed]",
      "text/plain": [
       "<Figure size 432x288 with 1 Axes>"
      ]
     },
     "metadata": {
      "needs_background": "light"
     },
     "output_type": "display_data"
    }
   ],
   "source": [
    "from qiskit.quantum_info import Statevector\n",
    "import matplotlib.pyplot as plt\n",
    "\n",
    "ref_solution = classical_solution.state / np.linalg.norm(classical_solution.state)\n",
    "vqls_solution = np.real(Statevector(res.state).data)\n",
    "\n",
    "\n",
    "plt.scatter(ref_solution, -vqls_solution)\n",
    "plt.plot([-1, 1], [-1, 1], \"--\")"
   ]
  },
  {
   "cell_type": "code",
   "execution_count": 13,
   "metadata": {},
   "outputs": [
    {
     "data": {
      "text/plain": [
       "Text(0.5, 0, 'Iterations')"
      ]
     },
     "execution_count": 13,
     "metadata": {},
     "output_type": "execute_result"
    },
    {
     "data": {
      "image/png": "[encoded data removed]",
      "text/plain": [
       "<Figure size 432x288 with 1 Axes>"
      ]
     },
     "metadata": {
      "needs_background": "light"
     },
     "output_type": "display_data"
    }
   ],
   "source": [
    "plt.plot(log.values)\n",
    "plt.ylabel('Cost Function')\n",
    "plt.xlabel('Iterations')"
   ]
  },
  {
   "cell_type": "code",
   "execution_count": null,
   "metadata": {},
   "outputs": [],
   "source": []
  }
 ],
 "metadata": {
  "kernelspec": {
   "display_name": "qalcore",
   "language": "python",
   "name": "python3"
  },
  "language_info": {
   "codemirror_mode": {
    "name": "ipython",
    "version": 3
   },
   "file_extension": ".py",
   "mimetype": "text/x-python",
   "name": "python",
   "nbconvert_exporter": "python",
   "pygments_lexer": "ipython3",
   "version": "3.8.0"
  },
  "orig_nbformat": 4,
  "vscode": {
   "interpreter": {
    "hash": "390591a6667b05d6f83558ed597f55be1305d4de992db830679d199a6a0e520c"
   }
  }
 },
 "nbformat": 4,
 "nbformat_minor": 2
}
