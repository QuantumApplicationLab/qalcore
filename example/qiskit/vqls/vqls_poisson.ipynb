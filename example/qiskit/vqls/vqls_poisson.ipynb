{
 "cells": [
  {
   "cell_type": "code",
   "execution_count": 17,
   "metadata": {},
   "outputs": [],
   "source": [
    "from qalcore.qiskit.vqls.vqls import VQLS\n",
    "from qiskit.circuit.library.n_local.real_amplitudes import RealAmplitudes\n",
    "from qiskit.algorithms.optimizers import COBYLA\n",
    "from qiskit.quantum_info import Statevector\n",
    "from qiskit import Aer\n",
    "import numpy as np"
   ]
  },
  {
   "cell_type": "markdown",
   "metadata": {},
   "source": [
    "# Using VQLS to Solve the Poisson Equation \n",
    "\n",
    "The Poisson equation reads:\n",
    "\n",
    "$$\n",
    "\\nabla^2 u = f\n",
    "$$ \n",
    "\n",
    "with $u(0)=u(1)=0$. Using finite difference this equation can be rewritten as \n",
    "\n",
    "$$\n",
    "\\begin{pmatrix}\n",
    "2 & -1 & 0 & 0 & \\cdots & 0\\\\\n",
    "-1&  2 & -1& 0 & \\cdots & 0\\\\\n",
    "0 & -1&  2 & -1& \\cdots & 0\\\\\n",
    "\\vdots & \\vdots&  \\vdots & \\ddots& \\ddots & \\ddots\\\\\n",
    "0 & 0&  0 & \\cdots& \\cdots & -1\\\\\n",
    "0 & 0&  0 & \\cdots& -1& 2\\\\\n",
    "\\end{pmatrix} \\begin{pmatrix}\n",
    "u_1 \\\\\n",
    "u_2 \\\\\n",
    "u_3 \\\\\n",
    "\\vdots \\\\\n",
    "\\vdots \\\\\n",
    "u_n\n",
    "\\end{pmatrix} = \n",
    "\n",
    "\\begin{pmatrix}\n",
    "f_1 \\\\\n",
    "f_2 \\\\\n",
    "f_3 \\\\\n",
    "\\vdots \\\\\n",
    "\\vdots \\\\\n",
    "f_n\n",
    "\\end{pmatrix}\n",
    "$$\n",
    "\n",
    "Which can be solved using VQLS"
   ]
  },
  {
   "cell_type": "code",
   "execution_count": 22,
   "metadata": {},
   "outputs": [
    {
     "data": {
      "text/plain": [
       "array([[ 2., -1.,  0.,  0.],\n",
       "       [-1.,  2., -1.,  0.],\n",
       "       [ 0., -1.,  2., -1.],\n",
       "       [ 0.,  0., -1.,  2.]])"
      ]
     },
     "execution_count": 22,
     "metadata": {},
     "output_type": "execute_result"
    }
   ],
   "source": [
    "#construct the matrix\n",
    "from qiskit.quantum_info.operators import Operator\n",
    "from qiskit.algorithms.linear_solvers.matrices import TridiagonalToeplitz\n",
    "import numpy as np \n",
    "nqbits = 2\n",
    "matrix = TridiagonalToeplitz(nqbits, 2, -1).matrix\n",
    "\n",
    "matrix"
   ]
  },
  {
   "cell_type": "code",
   "execution_count": 23,
   "metadata": {},
   "outputs": [
    {
     "data": {
      "text/plain": [
       "array([1., 1., 1., 1.])"
      ]
     },
     "execution_count": 23,
     "metadata": {},
     "output_type": "execute_result"
    }
   ],
   "source": [
    "# construct the right hand side\n",
    "vector = np.ones(matrix.shape[0])\n",
    "vector"
   ]
  },
  {
   "cell_type": "code",
   "execution_count": 24,
   "metadata": {},
   "outputs": [],
   "source": [
    "#compute the classical solution\n",
    "from qiskit.algorithms.linear_solvers.numpy_linear_solver import NumPyLinearSolver\n",
    "classical_solution = NumPyLinearSolver().solve(matrix, vector / np.linalg.norm(vector))\n",
    "ref_sol = classical_solution.state / np.linalg.norm(classical_solution.state)\n",
    "ref_sol = np.insert(ref_sol, [0,2**nqbits], [0,0])"
   ]
  },
  {
   "cell_type": "code",
   "execution_count": 25,
   "metadata": {},
   "outputs": [
    {
     "name": "stdout",
     "output_type": "stream",
     "text": [
      "Cost function 0.969831\n",
      "Cost function 0.981673\n",
      "Cost function 0.971228\n",
      "Cost function 0.993581\n",
      "Cost function 0.973933\n",
      "Cost function 0.970888\n",
      "Cost function 0.970875\n",
      "Cost function 0.992486\n",
      "Cost function 0.943302\n",
      "Cost function 0.952064\n",
      "Cost function 0.950849\n",
      "Cost function 0.948263\n",
      "Cost function 0.950172\n",
      "Cost function 0.940758\n",
      "Cost function 0.945032\n",
      "Cost function 0.946193\n",
      "Cost function 0.909525\n",
      "Cost function 0.902123\n",
      "Cost function 0.926090\n",
      "Cost function 0.900763\n",
      "Cost function 0.913105\n",
      "Cost function 0.885577\n",
      "Cost function 0.916710\n",
      "Cost function 0.859714\n",
      "Cost function 0.863614\n",
      "Cost function 0.830557\n",
      "Cost function 0.899084\n",
      "Cost function 0.895002\n",
      "Cost function 0.699827\n",
      "Cost function 0.915876\n",
      "Cost function 0.794748\n",
      "Cost function 0.610572\n",
      "Cost function 0.689662\n",
      "Cost function 0.739195\n",
      "Cost function 0.667089\n",
      "Cost function 0.936063\n",
      "Cost function 0.711439\n",
      "Cost function 0.589729\n",
      "Cost function 0.220562\n",
      "Cost function 0.051768\n",
      "Cost function 0.656142\n",
      "Cost function 0.039252\n",
      "Cost function 0.573063\n",
      "Cost function 0.069487\n",
      "Cost function 0.231611\n",
      "Cost function 0.208701\n",
      "Cost function 0.563201\n",
      "Cost function 0.647096\n",
      "Cost function 0.037115\n",
      "Cost function 0.176097\n",
      "Cost function 0.347044\n",
      "Cost function 0.017763\n",
      "Cost function 0.328723\n",
      "Cost function 0.017471\n",
      "Cost function 0.040866\n",
      "Cost function 0.064669\n",
      "Cost function 0.013737\n",
      "Cost function 0.126184\n",
      "Cost function 0.015913\n",
      "Cost function 0.157806\n",
      "Cost function 0.008133\n",
      "Cost function 0.023889\n",
      "Cost function 0.006076\n",
      "Cost function 0.045395\n",
      "Cost function 0.004150\n",
      "Cost function 0.009787\n",
      "Cost function 0.052222\n",
      "Cost function 0.009742\n",
      "Cost function 0.029380\n",
      "Cost function 0.006029\n",
      "Cost function 0.014180\n",
      "Cost function 0.001889\n",
      "Cost function 0.001554\n",
      "Cost function 0.003687\n",
      "Cost function 0.001108\n",
      "Cost function 0.001568\n",
      "Cost function 0.006305\n",
      "Cost function 0.003598\n",
      "Cost function 0.000963\n",
      "Cost function 0.001932\n",
      "Cost function 0.001158\n",
      "Cost function 0.002710\n",
      "Cost function 0.001755\n",
      "Cost function 0.000275\n",
      "Cost function 0.000480\n",
      "Cost function 0.000182\n",
      "Cost function 0.000074\n",
      "Cost function 0.000160\n",
      "Cost function 0.000317\n",
      "Cost function 0.000245\n",
      "Cost function 0.000033\n",
      "Cost function 0.000079\n",
      "Cost function 0.000031\n",
      "Cost function 0.000229\n",
      "Cost function 0.000052\n",
      "Cost function 0.000045\n",
      "Cost function 0.000042\n",
      "Cost function 0.000118\n",
      "Cost function 0.000079\n",
      "Cost function 0.000038\n",
      "Cost function 0.000048\n",
      "Cost function 0.000038\n",
      "Cost function 0.000035\n",
      "Cost function 0.000035\n",
      "Cost function 0.000039\n",
      "Cost function 0.000019\n",
      "Cost function 0.000013\n",
      "Cost function 0.000008\n",
      "Cost function 0.000007\n",
      "Cost function 0.000008\n",
      "Cost function 0.000014\n",
      "Cost function 0.000012\n",
      "Cost function 0.000004\n",
      "Cost function 0.000003\n",
      "Cost function 0.000002\n",
      "Cost function 0.000015\n",
      "Cost function 0.000002\n",
      "Cost function 0.000005\n",
      "Cost function 0.000003\n",
      "Cost function 0.000002\n",
      "Cost function 0.000002\n",
      "Cost function 0.000005\n",
      "Cost function 0.000002\n",
      "Cost function 0.000004\n",
      "Cost function 0.000002\n",
      "Cost function 0.000001\n",
      "Cost function 0.000002\n",
      "Cost function 0.000002\n",
      "Cost function 0.000002\n",
      "Cost function 0.000001\n",
      "Cost function 0.000001\n",
      "Cost function 0.000001\n",
      "Cost function 0.000001\n",
      "Cost function 0.000001\n",
      "Cost function 0.000001\n",
      "Cost function 0.000000\n",
      "Cost function 0.000000\n",
      "Cost function 0.000000\n",
      "Cost function 0.000000\n",
      "Cost function 0.000000\n",
      "Cost function 0.000000\n",
      "Cost function 0.000000\n",
      "Cost function 0.000001\n",
      "Cost function 0.000000\n",
      "Cost function 0.000000\n",
      "Cost function 0.000000\n",
      "Cost function 0.000000\n",
      "Cost function 0.000000\n",
      "\n",
      "   Normal return from subroutine COBYLA\n",
      "\n",
      "   NFVALS =  148   F = 2.376058E-07    MAXCV = 0.000000E+00\n",
      "   X =-2.606214E+00   1.531099E+00  -3.772708E+00  -4.115834E+00   1.328530E+00\n",
      "       5.267184E-01  -3.324532E+00   3.279197E+00\n"
     ]
    }
   ],
   "source": [
    "# compute the VQLS solution\n",
    "ansatz = RealAmplitudes(nqbits, entanglement=\"full\", reps=3, insert_barriers=False)\n",
    "vqls = VQLS(\n",
    "    ansatz=ansatz,\n",
    "    optimizer=COBYLA(maxiter=200, disp=True),\n",
    "    quantum_instance=Aer.get_backend(\"aer_simulator_statevector\"),\n",
    ")\n",
    "res = vqls.solve(matrix, vector)\n",
    "\n",
    "vqls_solution = np.real(Statevector(res.state).data)\n",
    "vqls_solution = np.insert(vqls_solution, [0,2**nqbits], [0,0])"
   ]
  },
  {
   "cell_type": "code",
   "execution_count": 26,
   "metadata": {},
   "outputs": [
    {
     "data": {
      "text/plain": [
       "[<matplotlib.lines.Line2D at 0x7f5228d28c10>]"
      ]
     },
     "execution_count": 26,
     "metadata": {},
     "output_type": "execute_result"
    },
    {
     "data": {
      "image/png": "[encoded data removed]",
      "text/plain": [
       "<Figure size 640x480 with 1 Axes>"
      ]
     },
     "metadata": {},
     "output_type": "display_data"
    }
   ],
   "source": [
    "import matplotlib.pyplot as plt\n",
    "plt.plot(vqls_solution)\n",
    "plt.plot(ref_sol)\n"
   ]
  },
  {
   "cell_type": "code",
   "execution_count": null,
   "metadata": {},
   "outputs": [],
   "source": []
  }
 ],
 "metadata": {
  "kernelspec": {
   "display_name": "Python 3.8.13 ('test_qalcore')",
   "language": "python",
   "name": "python3"
  },
  "language_info": {
   "codemirror_mode": {
    "name": "ipython",
    "version": 3
   },
   "file_extension": ".py",
   "mimetype": "text/x-python",
   "name": "python",
   "nbconvert_exporter": "python",
   "pygments_lexer": "ipython3",
   "version": "3.8.13"
  },
  "orig_nbformat": 4,
  "vscode": {
   "interpreter": {
    "hash": "b801f20f58c2a55eba63eb4bd542f58d8849c5838c1257501c707620be8344ae"
   }
  }
 },
 "nbformat": 4,
 "nbformat_minor": 2
}
